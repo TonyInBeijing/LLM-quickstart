{
 "cells": [
  {
   "cell_type": "markdown",
   "id": "26913168-b5be-4f74-abd5-b23720dc63ad",
   "metadata": {},
   "source": [
    "# 使用完整的 YelpReviewFull 数据集训练，对比看 Acc 最高能到多少"
   ]
  },
  {
   "cell_type": "markdown",
   "id": "6ccef861-a597-48b6-9837-23b3751ce00c",
   "metadata": {},
   "source": [
    "## 1.加载数据集"
   ]
  },
  {
   "cell_type": "code",
   "execution_count": 1,
   "id": "bd1e760d-45d8-4f5a-8549-f1a95450d791",
   "metadata": {},
   "outputs": [
    {
     "name": "stderr",
     "output_type": "stream",
     "text": [
      "/home/ubuntu/miniconda3/envs/transformers/lib/python3.11/site-packages/tqdm/auto.py:21: TqdmWarning: IProgress not found. Please update jupyter and ipywidgets. See https://ipywidgets.readthedocs.io/en/stable/user_install.html\n",
      "  from .autonotebook import tqdm as notebook_tqdm\n"
     ]
    }
   ],
   "source": [
    "from datasets import load_dataset\n",
    "\n",
    "dataset = load_dataset(\"yelp_review_full\")"
   ]
  },
  {
   "cell_type": "markdown",
   "id": "f49e0662-2d1e-4753-bf2b-126629b33daa",
   "metadata": {},
   "source": [
    "## 2.预处理数据"
   ]
  },
  {
   "cell_type": "code",
   "execution_count": 2,
   "id": "01d400ce-2390-4770-97fe-45c56b0edc33",
   "metadata": {},
   "outputs": [],
   "source": [
    "from transformers import AutoTokenizer\n",
    "\n",
    "tokenizer = AutoTokenizer.from_pretrained(\"bert-base-cased\")\n",
    "\n",
    "\n",
    "def tokenize_function(examples):\n",
    "    return tokenizer(examples[\"text\"], padding=\"max_length\", truncation=True)\n",
    "\n",
    "\n",
    "tokenized_datasets = dataset.map(tokenize_function, batched=True)\n",
    "full_train_dataset = tokenized_datasets[\"train\"].shuffle(seed=46)\n",
    "full_eval_dataset = tokenized_datasets[\"test\"].shuffle(seed=46)"
   ]
  },
  {
   "cell_type": "markdown",
   "id": "d3ed7521-b953-4c49-824d-78cc7cac30d3",
   "metadata": {},
   "source": [
    "## 3.加载模型"
   ]
  },
  {
   "cell_type": "code",
   "execution_count": 3,
   "id": "da8757b3-cde2-4314-a7d7-2730908a1472",
   "metadata": {},
   "outputs": [
    {
     "name": "stderr",
     "output_type": "stream",
     "text": [
      "Some weights of BertForSequenceClassification were not initialized from the model checkpoint at bert-base-cased and are newly initialized: ['classifier.bias', 'classifier.weight']\n",
      "You should probably TRAIN this model on a down-stream task to be able to use it for predictions and inference.\n"
     ]
    }
   ],
   "source": [
    "from transformers import AutoModelForSequenceClassification\n",
    "\n",
    "model = AutoModelForSequenceClassification.from_pretrained(\"bert-base-cased\", num_labels=5)"
   ]
  },
  {
   "cell_type": "markdown",
   "id": "23571c67-8013-48c2-bb12-f2df366da8f4",
   "metadata": {},
   "source": [
    "## 4.配置训练超参数"
   ]
  },
  {
   "cell_type": "code",
   "execution_count": 6,
   "id": "df860ed1-794a-44a4-a219-df77fa0d95b5",
   "metadata": {},
   "outputs": [],
   "source": [
    "from transformers import TrainingArguments\n",
    "\n",
    "model_dir = \"models/bert-base-cased-finetune-yelp\"\n",
    "full_training_args = TrainingArguments(output_dir=model_dir,\n",
    "                                  evaluation_strategy=\"epoch\",\n",
    "                                  save_total_limit=5,  # 设置自动保存\n",
    "                                  per_device_train_batch_size=16,\n",
    "                                  num_train_epochs=3,\n",
    "                                  logging_steps=100)"
   ]
  },
  {
   "cell_type": "markdown",
   "id": "235ed683-147c-4ec0-b872-4c1160e7a43b",
   "metadata": {},
   "source": [
    "## 5.配置指标评估方法"
   ]
  },
  {
   "cell_type": "code",
   "execution_count": 7,
   "id": "70f10152-5bf9-451f-92b6-941339621dc3",
   "metadata": {},
   "outputs": [],
   "source": [
    "import numpy as np\n",
    "import evaluate\n",
    "\n",
    "metric = evaluate.load(\"accuracy\")\n",
    "\n",
    "def compute_metrics(eval_pred):\n",
    "    logits, labels = eval_pred\n",
    "    predictions = np.argmax(logits, axis=-1)\n",
    "    return metric.compute(predictions=predictions, references=labels)"
   ]
  },
  {
   "cell_type": "markdown",
   "id": "0baaea5a-f47b-4798-8fe7-95cf3814b63a",
   "metadata": {},
   "source": [
    "## 6.开始训练"
   ]
  },
  {
   "cell_type": "code",
   "execution_count": 8,
   "id": "a125f59f-87d2-47b3-8f59-ec64b61f76f2",
   "metadata": {},
   "outputs": [
    {
     "data": {
      "text/html": [
       "\n",
       "    <div>\n",
       "      \n",
       "      <progress value='121875' max='121875' style='width:300px; height:20px; vertical-align: middle;'></progress>\n",
       "      [121875/121875 17:58:15, Epoch 3/3]\n",
       "    </div>\n",
       "    <table border=\"1\" class=\"dataframe\">\n",
       "  <thead>\n",
       " <tr style=\"text-align: left;\">\n",
       "      <th>Epoch</th>\n",
       "      <th>Training Loss</th>\n",
       "      <th>Validation Loss</th>\n",
       "      <th>Accuracy</th>\n",
       "    </tr>\n",
       "  </thead>\n",
       "  <tbody>\n",
       "    <tr>\n",
       "      <td>1</td>\n",
       "      <td>0.761200</td>\n",
       "      <td>0.760435</td>\n",
       "      <td>0.665820</td>\n",
       "    </tr>\n",
       "    <tr>\n",
       "      <td>2</td>\n",
       "      <td>0.686100</td>\n",
       "      <td>0.723348</td>\n",
       "      <td>0.687320</td>\n",
       "    </tr>\n",
       "    <tr>\n",
       "      <td>3</td>\n",
       "      <td>0.602400</td>\n",
       "      <td>0.731828</td>\n",
       "      <td>0.691260</td>\n",
       "    </tr>\n",
       "  </tbody>\n",
       "</table><p>"
      ],
      "text/plain": [
       "<IPython.core.display.HTML object>"
      ]
     },
     "metadata": {},
     "output_type": "display_data"
    },
    {
     "data": {
      "text/plain": [
       "TrainOutput(global_step=121875, training_loss=0.7100966492951222, metrics={'train_runtime': 64696.6655, 'train_samples_per_second': 30.141, 'train_steps_per_second': 1.884, 'total_flos': 5.130803778048e+17, 'train_loss': 0.7100966492951222, 'epoch': 3.0})"
      ]
     },
     "execution_count": 8,
     "metadata": {},
     "output_type": "execute_result"
    }
   ],
   "source": [
    "from transformers import Trainer\n",
    "trainer = Trainer(\n",
    "    model=model,\n",
    "    args=full_training_args,\n",
    "    train_dataset=full_train_dataset,\n",
    "    eval_dataset=full_eval_dataset,\n",
    "    compute_metrics=compute_metrics,\n",
    ")\n",
    "trainer.train()"
   ]
  },
  {
   "cell_type": "markdown",
   "id": "4924498b-3769-4d85-b78f-2b9a00466e84",
   "metadata": {},
   "source": [
    "## 7.验证并保存"
   ]
  },
  {
   "cell_type": "code",
   "execution_count": 9,
   "id": "fdc6f315-27a7-45ac-8f0c-72f8b132074e",
   "metadata": {},
   "outputs": [
    {
     "data": {
      "text/html": [
       "\n",
       "    <div>\n",
       "      \n",
       "      <progress value='13' max='13' style='width:300px; height:20px; vertical-align: middle;'></progress>\n",
       "      [13/13 00:01]\n",
       "    </div>\n",
       "    "
      ],
      "text/plain": [
       "<IPython.core.display.HTML object>"
      ]
     },
     "metadata": {},
     "output_type": "display_data"
    },
    {
     "data": {
      "text/plain": [
       "{'eval_loss': 0.7058154344558716,\n",
       " 'eval_accuracy': 0.71,\n",
       " 'eval_runtime': 1.3864,\n",
       " 'eval_samples_per_second': 72.13,\n",
       " 'eval_steps_per_second': 9.377,\n",
       " 'epoch': 3.0}"
      ]
     },
     "execution_count": 9,
     "metadata": {},
     "output_type": "execute_result"
    }
   ],
   "source": [
    "small_test_dataset = tokenized_datasets[\"test\"].shuffle(seed=30).select(range(100))\n",
    "trainer.evaluate(small_test_dataset)"
   ]
  },
  {
   "cell_type": "code",
   "execution_count": 10,
   "id": "57cd0aba-ecb4-4d39-8daa-85a38c32c024",
   "metadata": {},
   "outputs": [],
   "source": [
    "trainer.save_model(model_dir)\n",
    "trainer.save_state()"
   ]
  },
  {
   "cell_type": "code",
   "execution_count": null,
   "id": "6f217716-b1ca-41ef-8ad9-04ac45d48f76",
   "metadata": {},
   "outputs": [],
   "source": []
  }
 ],
 "metadata": {
  "kernelspec": {
   "display_name": "Python 3 (ipykernel)",
   "language": "python",
   "name": "python3"
  },
  "language_info": {
   "codemirror_mode": {
    "name": "ipython",
    "version": 3
   },
   "file_extension": ".py",
   "mimetype": "text/x-python",
   "name": "python",
   "nbconvert_exporter": "python",
   "pygments_lexer": "ipython3",
   "version": "3.11.7"
  }
 },
 "nbformat": 4,
 "nbformat_minor": 5
}
